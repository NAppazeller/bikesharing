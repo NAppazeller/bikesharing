{
 "cells": [
  {
   "cell_type": "code",
   "execution_count": null,
   "metadata": {},
   "outputs": [],
   "source": [
    "import pandas as pd"
   ]
  },
  {
   "cell_type": "code",
   "execution_count": null,
   "metadata": {},
   "outputs": [],
   "source": [
    "# 1. Create a DataFrame for the 201908-citibike-tripdata data.\n",
    "nyc_citibike_data = \"201908-citibike-tripdata.csv\"\n",
    "nyc_citibike_df = pd.read_csv(nyc_citibike_data)"
   ]
  },
  {
   "cell_type": "code",
   "execution_count": null,
   "metadata": {},
   "outputs": [],
   "source": [
    "nyc_citibike_df.head()"
   ]
  },
  {
   "cell_type": "code",
   "execution_count": null,
   "metadata": {},
   "outputs": [],
   "source": [
    "# 2. check the datatypes of each column in the DataFrame\n",
    "nyc_citibike_df.info()"
   ]
  },
  {
   "cell_type": "code",
   "execution_count": null,
   "metadata": {},
   "outputs": [],
   "source": [
    "# 3. Convert the 'tripduration' column to datetime datatype.\n",
    "nyc_citibike_df['tripduration_original'] = nyc_citibike_df['tripduration']\n",
    "nyc_citibike_df['tripduration'] = pd.to_datetime(nyc_citibike_df['tripduration'],unit='m')\n",
    "\n",
    "nyc_citibike_df.head()"
   ]
  },
  {
   "cell_type": "code",
   "execution_count": null,
   "metadata": {},
   "outputs": [],
   "source": [
    "# 4. check the datatypes of the DataFrame \n",
    "nyc_citibike_df.info()"
   ]
  },
  {
   "cell_type": "code",
   "execution_count": null,
   "metadata": {},
   "outputs": [],
   "source": [
    "# 5. convert the \"tripduration\" column to a datetime datatype by passing the DataFrame column and the units inside the to_datetime() function.\n",
    "nyc_citibike_df.to_csv('201908-citibike-tripdata_CLEAN_CONVERTED.csv', index=False)"
   ]
  },
  {
   "cell_type": "code",
   "execution_count": null,
   "metadata": {},
   "outputs": [],
   "source": []
  }
 ],
 "metadata": {
  "kernelspec": {
   "display_name": "PythonData",
   "language": "python",
   "name": "pythondata"
  },
  "language_info": {
   "codemirror_mode": {
    "name": "ipython",
    "version": 3
   },
   "file_extension": ".py",
   "mimetype": "text/x-python",
   "name": "python",
   "nbconvert_exporter": "python",
   "pygments_lexer": "ipython3",
   "version": "3.7.9"
  }
 },
 "nbformat": 4,
 "nbformat_minor": 4
}
